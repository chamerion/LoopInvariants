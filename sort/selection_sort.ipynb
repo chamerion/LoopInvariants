{
 "cells": [
  {
   "cell_type": "markdown",
   "metadata": {},
   "source": [
    "# Selection sort\n",
    "\n",
    "## Description and implementation\n",
    "\n",
    "**Input:** List of numbers \n",
    "```\n",
    "A[0], A[1], ..., A[n - 1].\n",
    "```\n",
    "\n",
    "**Output:** A reordering of `A` such that\n",
    "```\n",
    "A[0] <= A[1] <= ... <= A[n - 1].\n",
    "```\n",
    "**Pseudocode:**\n",
    "```\n",
    "for i = 0 to n - 2\n",
    "    imin = i\n",
    "    j = i\n",
    "    for j = i + 1 to n - 1\n",
    "        if A[j] < A[imin]\n",
    "            imin = j\n",
    "    swap A[i] and A[imin]\n",
    "```\n",
    "\n",
    "### `selection_sort()`\n",
    "\n",
    "The function `selection_sort(A)` given below is a direct implementation of the pseudocode. Parameter `A` must be a [mutable sequence](https://docs.python.org/3/reference/datamodel.html) (list or byte array for example) of a pairwise comparable elements."
   ]
  },
  {
   "cell_type": "code",
   "execution_count": 1,
   "metadata": {
    "collapsed": true
   },
   "outputs": [],
   "source": [
    "def selection_sort(A):\n",
    "    '''Sorts in-place a list of comparable elements.\n",
    "\n",
    "    Algorithm: Selection Sort.\n",
    "    '''\n",
    "    n = len(A)\n",
    "    \n",
    "    for i in range(n - 1):\n",
    "        imin = i\n",
    "        \n",
    "        for j in range(i + 1, n):\n",
    "            if A[j] < A[imin]:\n",
    "                imin = j\n",
    "        \n",
    "        A[i], A[imin] = A[imin], A[i]"
   ]
  },
  {
   "cell_type": "markdown",
   "metadata": {},
   "source": [
    "### `selection_sort()` with loop invariants\n",
    "\n",
    "The function `selection_sort_inv(A)` is the `selection_sort(A)` with loop invariants added. "
   ]
  },
  {
   "cell_type": "code",
   "execution_count": 2,
   "metadata": {
    "collapsed": true
   },
   "outputs": [],
   "source": [
    "def selection_sort_inv(A):\n",
    "    '''Sorts in-place a list of comparable elements.\n",
    "\n",
    "    Algorithm: Selection Sort.\n",
    "    Each loop have a loop invariant provided by assert.\n",
    "    '''\n",
    "    \n",
    "    n = len(A)\n",
    "    \n",
    "    for i in range(n - 1):\n",
    "        # A[0, ..., i - 1] consists of the i - 1 minimal elements of A[0, ..., n - 1]\n",
    "        # and is sorted.\n",
    "        assert A[:i] == sorted(A)[:i], 'Invariant for outer loop failed.'\n",
    "        \n",
    "        imin = i\n",
    "        \n",
    "        for j in range(i + 1, n):\n",
    "            # A[imin] is the smallest in A[i, ..., j - 1].\n",
    "            assert A[imin] == min(A[i:j]), 'Invariant for inner loop failed.'\n",
    "            \n",
    "            if A[j] < A[imin]:\n",
    "                imin = j\n",
    "        \n",
    "        # A[imin] is the smallest in A[i, ..., j - 1].\n",
    "        j = n\n",
    "        assert A[imin] == min(A[i:j]), 'Invariant for inner loop failed.'\n",
    "        \n",
    "        A[i], A[imin] = A[imin], A[i]\n",
    "    \n",
    "    # A[0, ..., n - 1] consists of the n minimal elements of A[0, ..., n - 1]\n",
    "    # and is sorted.\n",
    "    i = n\n",
    "    assert A[:i] == sorted(A)[:i], 'Invariant for outer loop failed.'"
   ]
  },
  {
   "cell_type": "markdown",
   "metadata": {},
   "source": [
    "## Test and timing\n",
    "\n",
    "Length of the list."
   ]
  },
  {
   "cell_type": "code",
   "execution_count": 3,
   "metadata": {
    "collapsed": true
   },
   "outputs": [],
   "source": [
    "N = 100"
   ]
  },
  {
   "cell_type": "markdown",
   "metadata": {},
   "source": [
    "List of random integers."
   ]
  },
  {
   "cell_type": "code",
   "execution_count": 4,
   "metadata": {
    "collapsed": true
   },
   "outputs": [],
   "source": [
    "from random import randint\n",
    "\n",
    "A = [randint(0, N) for _ in range(N)]"
   ]
  },
  {
   "cell_type": "markdown",
   "metadata": {},
   "source": [
    "Test of loop invariants."
   ]
  },
  {
   "cell_type": "code",
   "execution_count": 5,
   "metadata": {},
   "outputs": [
    {
     "name": "stdout",
     "output_type": "stream",
     "text": [
      "1, 3, 5, 5, 7, 7, 7, 10, 12, 12, 12, 16, 16, 16, 16, 17, 18, 18, 19, 20, 20, 21, 21, 23, 24, 25, 26, 27, 29, 29, 29, 29, 30, 31, 32, 36, 40, 41, 42, 42, 42, 42, 42, 42, 44, 45, 47, 47, 48, 48, 49, 49, 50, 53, 53, 54, 54, 56, 56, 56, 57, 59, 61, 61, 62, 64, 64, 65, 66, 67, 67, 69, 69, 70, 72, 72, 73, 77, 77, 80, 80, 82, 83, 84, 85, 86, 86, 86, 92, 93, 93, 95, 96, 96, 97, 97, 98, 99, 100, 100, "
     ]
    }
   ],
   "source": [
    "B = A[:]\n",
    "\n",
    "selection_sort_inv(B)\n",
    "\n",
    "for k in B:\n",
    "    print(k, end=', ')"
   ]
  },
  {
   "cell_type": "markdown",
   "metadata": {},
   "source": [
    "Timing."
   ]
  },
  {
   "cell_type": "code",
   "execution_count": 6,
   "metadata": {},
   "outputs": [
    {
     "name": "stdout",
     "output_type": "stream",
     "text": [
      "544 µs ± 2.15 µs per loop (mean ± std. dev. of 7 runs, 1000 loops each)\n"
     ]
    }
   ],
   "source": [
    "%%timeit\n",
    "\n",
    "B = A[:]\n",
    "selection_sort(B)"
   ]
  }
 ],
 "metadata": {
  "anaconda-cloud": {},
  "kernelspec": {
   "display_name": "Python [default]",
   "language": "python",
   "name": "python3"
  },
  "language_info": {
   "codemirror_mode": {
    "name": "ipython",
    "version": 3
   },
   "file_extension": ".py",
   "mimetype": "text/x-python",
   "name": "python",
   "nbconvert_exporter": "python",
   "pygments_lexer": "ipython3",
   "version": "3.5.4"
  }
 },
 "nbformat": 4,
 "nbformat_minor": 2
}
