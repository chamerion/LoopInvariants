{
 "cells": [
  {
   "cell_type": "markdown",
   "metadata": {},
   "source": [
    "# Insertion sort\n",
    "\n",
    "## Description and implementation\n",
    "\n",
    "**Input:** List of numbers \n",
    "```\n",
    "A[0], A[1], ..., A[n - 1].\n",
    "```\n",
    "\n",
    "**Output:** A reordering of `A` such that\n",
    "```\n",
    "A[0] <= A[1] <= ... <= A[n - 1].\n",
    "```\n",
    "**Pseudocode:**\n",
    "```\n",
    "for i = 1 to n - 1\n",
    "    j = i\n",
    "    while j > 0 and A[j-1] > A[j]\n",
    "        swap A[j] and A[j-1]\n",
    "        j = j - 1\n",
    "```\n",
    "\n",
    "### `insertion_sort()`\n",
    "\n",
    "The function `insertion_sort(A)` given below is a direct implementation of the pseudocode. Parameter `A` must be a [mutable sequence](https://docs.python.org/3/reference/datamodel.html) (list or byte array for example) of a pairwise comparable elements."
   ]
  },
  {
   "cell_type": "code",
   "execution_count": 1,
   "metadata": {
    "collapsed": true
   },
   "outputs": [],
   "source": [
    "def insertion_sort(A):\n",
    "    '''Sorts in-place a list of comparable elements.\n",
    "\n",
    "    Algorithm: Insertion Sort.\n",
    "    '''\n",
    "    n = len(A)\n",
    "    \n",
    "    for i in range(n):\n",
    "        j = i\n",
    "        \n",
    "        while j > 0 and A[j - 1] > A[j]:\n",
    "            A[j], A[j - 1] = A[j - 1], A[j]\n",
    "            j -= 1"
   ]
  },
  {
   "cell_type": "markdown",
   "metadata": {},
   "source": [
    "### `insertion_sort()` with loop invariants\n",
    "\n",
    "The function `insertion_sort_inv(A)` is the `insertion_sort(A)` with loop invariants added. "
   ]
  },
  {
   "cell_type": "code",
   "execution_count": 2,
   "metadata": {
    "collapsed": true
   },
   "outputs": [],
   "source": [
    "def insertion_sort_inv(A):\n",
    "    '''Sorts in-place a list of comparable elements.\n",
    "    \n",
    "    Algorithm: Insertion Sort.\n",
    "    Each loop have a loop invariant provided by assert.\n",
    "    '''\n",
    "    \n",
    "    # B is a copy of A used in invariants.\n",
    "    B = A[:]\n",
    "    \n",
    "    n = len(A)\n",
    "    \n",
    "    for i in range(1, n):\n",
    "        # A[0, ..., i - 1] consists of the elements originally in A[0, ..., i - 1]\n",
    "        # and is already sorted.\n",
    "        assert A[:i] == sorted(B[:i]), 'Invariant for outer loop failed.'\n",
    "        \n",
    "        j = i\n",
    "            \n",
    "        while j > 0 and A[j - 1] > A[j]:\n",
    "            # A[j] is the smallest in A[j, ..., i].\n",
    "            assert A[j] == min(A[j:i + 1]), 'Invariant for inner loop failed.'\n",
    "            \n",
    "            A[j], A[j - 1] = A[j - 1], A[j]\n",
    "            j -= 1\n",
    "        \n",
    "        # A[j] is the smallest in A[j, ..., i].\n",
    "        assert A[j] == min(A[j:i + 1]), 'Invariant for inner loop failed.'\n",
    "    \n",
    "    # A[0, ..., n - 1] consists of the elements originally in A[0, ..., n - 1]\n",
    "    # and is already sorted.\n",
    "    i = n\n",
    "    assert A[:i] == sorted(B[:i]), 'Invariant for outer loop failed.'"
   ]
  },
  {
   "cell_type": "markdown",
   "metadata": {},
   "source": [
    "## Optimization\n",
    "\n",
    "Assignment of `A[i]` before the start of the inner loop may give a slight optimization because the number of assignments in the inner loop, and hence in the function, is then smaller.\n",
    "\n",
    "**Pseudocode:**\n",
    "```\n",
    "for i = 1 to n - 1\n",
    "    v = A[i]\n",
    "    j = i\n",
    "    while j > 0 and A[j-1] > v\n",
    "        A[j] = A[j-1]\n",
    "        j = j - 1\n",
    "    A[j] = v\n",
    "```\n",
    "\n",
    "### `insertion_sort_opt()`\n",
    "\n",
    "The function `insertion_sort_opt()` is the optimised `insertion_sort()`."
   ]
  },
  {
   "cell_type": "code",
   "execution_count": 3,
   "metadata": {
    "collapsed": true
   },
   "outputs": [],
   "source": [
    "def insertion_sort_opt(A):\n",
    "    '''Sorts in-place a list of comparable elements.\n",
    "    \n",
    "    Algorithm: Insertion Sort.\n",
    "    '''\n",
    "    n = len(A)\n",
    "    \n",
    "    for i in range(n):\n",
    "        v = A[i]\n",
    "        j = i\n",
    "        \n",
    "        while j > 0 and A[j - 1] > v:\n",
    "            A[j] = A[j - 1]\n",
    "            j -= 1\n",
    "        A[j] = v"
   ]
  },
  {
   "cell_type": "markdown",
   "metadata": {},
   "source": [
    "### `insertion_sort_opt()` with loop invariants\n",
    "\n",
    "After optimisation the loop invariants are still the same."
   ]
  },
  {
   "cell_type": "code",
   "execution_count": 4,
   "metadata": {
    "collapsed": true
   },
   "outputs": [],
   "source": [
    "def insertion_sort_opt_inv(A):\n",
    "    '''Sorts in-place a list of comparable elements.\n",
    "    \n",
    "    Algorithm: Insertion Sort.\n",
    "    Each loop have a loop invariant provided by assert.\n",
    "    '''\n",
    "    \n",
    "    # B is a copy of A used in invariants.\n",
    "    B = A[:]\n",
    "    \n",
    "    n = len(A)\n",
    "    \n",
    "    for i in range(1, n):\n",
    "        # A[0, ..., i - 1] consists of the elements originally in A[0, ..., i - 1]\n",
    "        # and is already sorted.\n",
    "        assert A[:i] == sorted(B[:i]), 'Invariant for outer loop failed.'\n",
    "        \n",
    "        v = A[i]\n",
    "        j = i\n",
    "            \n",
    "        while j > 0 and A[j - 1] > v:\n",
    "            # A[j] is the smallest in A[j, ..., i].\n",
    "            assert A[j] == min(A[j:i + 1]), 'Invariant for inner loop failed.'\n",
    "            \n",
    "            A[j] = A[j - 1]\n",
    "            j -= 1\n",
    "        \n",
    "        A[j] = v\n",
    "        \n",
    "        # A[j] is the smallest in A[j, ..., i].\n",
    "        assert A[j] == min(A[j:i + 1]), 'Invariant for inner loop failed.'\n",
    "    \n",
    "    # A[0, ..., n - 1] consists of the elements originally in A[0, ..., n - 1]\n",
    "    # and is already sorted.\n",
    "    i = n\n",
    "    assert A[:i] == sorted(B[:i]), 'Invariant for outer loop failed.'"
   ]
  },
  {
   "cell_type": "markdown",
   "metadata": {},
   "source": [
    "## Timings\n",
    "\n",
    "Length of the list."
   ]
  },
  {
   "cell_type": "code",
   "execution_count": 5,
   "metadata": {
    "collapsed": true
   },
   "outputs": [],
   "source": [
    "N = 100"
   ]
  },
  {
   "cell_type": "markdown",
   "metadata": {},
   "source": [
    "#### Worst case."
   ]
  },
  {
   "cell_type": "code",
   "execution_count": 6,
   "metadata": {},
   "outputs": [
    {
     "name": "stdout",
     "output_type": "stream",
     "text": [
      "1.64 ms ± 3.57 µs per loop (mean ± std. dev. of 7 runs, 1000 loops each)\n"
     ]
    }
   ],
   "source": [
    "%timeit insertion_sort(list(range(N, 0, -1)))"
   ]
  },
  {
   "cell_type": "code",
   "execution_count": 7,
   "metadata": {},
   "outputs": [
    {
     "name": "stdout",
     "output_type": "stream",
     "text": [
      "1.07 ms ± 2.17 µs per loop (mean ± std. dev. of 7 runs, 1000 loops each)\n"
     ]
    }
   ],
   "source": [
    "%timeit insertion_sort_opt(list(range(N, 0, -1)))"
   ]
  },
  {
   "cell_type": "markdown",
   "metadata": {},
   "source": [
    "#### Best case."
   ]
  },
  {
   "cell_type": "code",
   "execution_count": 8,
   "metadata": {},
   "outputs": [
    {
     "name": "stdout",
     "output_type": "stream",
     "text": [
      "16.8 µs ± 15.8 ns per loop (mean ± std. dev. of 7 runs, 100000 loops each)\n"
     ]
    }
   ],
   "source": [
    "%timeit insertion_sort(list(range(N)))"
   ]
  },
  {
   "cell_type": "code",
   "execution_count": 9,
   "metadata": {},
   "outputs": [
    {
     "name": "stdout",
     "output_type": "stream",
     "text": [
      "20.6 µs ± 38.6 ns per loop (mean ± std. dev. of 7 runs, 10000 loops each)\n"
     ]
    }
   ],
   "source": [
    "%timeit insertion_sort_opt(list(range(N)))"
   ]
  },
  {
   "cell_type": "markdown",
   "metadata": {},
   "source": [
    "#### Average case."
   ]
  },
  {
   "cell_type": "code",
   "execution_count": 10,
   "metadata": {
    "collapsed": true
   },
   "outputs": [],
   "source": [
    "from random import randint\n",
    "\n",
    "A = [randint(0, N) for _ in range(N)]"
   ]
  },
  {
   "cell_type": "code",
   "execution_count": 11,
   "metadata": {},
   "outputs": [
    {
     "name": "stdout",
     "output_type": "stream",
     "text": [
      "886 µs ± 5.57 µs per loop (mean ± std. dev. of 7 runs, 1000 loops each)\n"
     ]
    }
   ],
   "source": [
    "%%timeit\n",
    "\n",
    "B = A[:]\n",
    "insertion_sort(B)"
   ]
  },
  {
   "cell_type": "code",
   "execution_count": 12,
   "metadata": {},
   "outputs": [
    {
     "name": "stdout",
     "output_type": "stream",
     "text": [
      "566 µs ± 2.09 µs per loop (mean ± std. dev. of 7 runs, 1000 loops each)\n"
     ]
    }
   ],
   "source": [
    "%%timeit\n",
    "\n",
    "B = A[:]\n",
    "insertion_sort_opt(B)"
   ]
  }
 ],
 "metadata": {
  "anaconda-cloud": {},
  "kernelspec": {
   "display_name": "Python 3",
   "language": "python",
   "name": "python3"
  },
  "language_info": {
   "codemirror_mode": {
    "name": "ipython",
    "version": 3
   },
   "file_extension": ".py",
   "mimetype": "text/x-python",
   "name": "python",
   "nbconvert_exporter": "python",
   "pygments_lexer": "ipython3",
   "version": "3.6.8"
  }
 },
 "nbformat": 4,
 "nbformat_minor": 2
}
