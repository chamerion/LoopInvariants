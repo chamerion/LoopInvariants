{
 "cells": [
  {
   "cell_type": "markdown",
   "metadata": {},
   "source": [
    "# Bubble sort\n",
    "\n",
    "## Description and implementation\n",
    "\n",
    "**Input:** List of numbers \n",
    "```\n",
    "A[0], A[1], ..., A[n - 1].\n",
    "```\n",
    "\n",
    "**Output:** A reordering of `A` such that\n",
    "```\n",
    "A[0] <= A[1] <= ... <= A[n - 1].\n",
    "```\n",
    "**Pseudocode:**\n",
    "```\n",
    "for i = 0 to n - 2\n",
    "    for j = n - 1 downto i + 1\n",
    "        if A[j] < A[j - 1]\n",
    "            swap A[j] and A[j - 1]\n",
    "```\n",
    "\n",
    "### `bubble_sort()`\n",
    "\n",
    "The function `bubble_sort(A)` given below is a direct implementation of the pseudocode. Parameter `A` must be a [mutable sequence](https://docs.python.org/3/reference/datamodel.html) (list or byte array for example) of a pairwise comparable elements."
   ]
  },
  {
   "cell_type": "code",
   "execution_count": null,
   "metadata": {},
   "outputs": [],
   "source": [
    "def bubble_sort(A):\n",
    "    '''Sorts in-place a list of comparable elements.\n",
    "\n",
    "    Algorithm: Bubble Sort.\n",
    "    '''\n",
    "    n = len(A)\n",
    "    \n",
    "    for i in range(n):\n",
    "        for j in range(n - 1, i, -1):\n",
    "            if A[j] < A[j - 1]:\n",
    "                A[j], A[j - 1] = A[j - 1], A[j]           "
   ]
  },
  {
   "cell_type": "markdown",
   "metadata": {},
   "source": [
    "### `bubble_sort()` with loop invariants\n",
    "\n",
    "`bubble_sort_inv()` has loop invariants added."
   ]
  },
  {
   "cell_type": "code",
   "execution_count": null,
   "metadata": {},
   "outputs": [],
   "source": [
    "def bubble_sort_inv(A):\n",
    "    '''Sorts in-place a list of comparable elements.\n",
    "\n",
    "    Algorithm: Bubble Sort.\n",
    "    Each loop have a loop invariant provided by assert.\n",
    "    '''\n",
    "    n = len(A)\n",
    "    \n",
    "    # B is a sorted copy of A used in invariants.\n",
    "    B = sorted(A)\n",
    "    \n",
    "    for i in range(n):\n",
    "        # A[0, ..., i - 1] has already sorted smallest elements of A[].\n",
    "        assert A[:i] == B[:i], 'Invariant for outer loop failed.'\n",
    "        \n",
    "        for j in range(n - 1, i, -1):\n",
    "            # A[j] is the smallest value in A[j, ..., n - 1].\n",
    "            assert A[j] == min(A[j:]), 'Invariant for inner loop failed.'\n",
    "            \n",
    "            if A[j] < A[j - 1]:\n",
    "                A[j], A[j - 1] = A[j - 1], A[j]\n",
    "        \n",
    "        # For j == i, A[j] is the smallest value in A[j, ..., n - 1].\n",
    "        j = i\n",
    "        assert A[j] == min(A[j:]), 'Invariant for inner loop failed.'\n",
    "    \n",
    "    # For i == n, A[0, ..., i - 1] has already sorted smallest elements of A[].\n",
    "    i = n\n",
    "    assert A[:i] == B[:i], 'Invariant for outer loop failed.'"
   ]
  }
 ],
 "metadata": {
  "kernelspec": {
   "display_name": "Python 3",
   "language": "python",
   "name": "python3"
  },
  "language_info": {
   "codemirror_mode": {
    "name": "ipython",
    "version": 3
   },
   "file_extension": ".py",
   "mimetype": "text/x-python",
   "name": "python",
   "nbconvert_exporter": "python",
   "pygments_lexer": "ipython3",
   "version": "3.6.8"
  }
 },
 "nbformat": 4,
 "nbformat_minor": 2
}
