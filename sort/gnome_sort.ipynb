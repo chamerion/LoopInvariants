{
 "cells": [
  {
   "cell_type": "markdown",
   "metadata": {},
   "source": [
    "# Gnome sort\n",
    "\n",
    "## Description and implementation\n",
    "\n",
    "**Input:** List of numbers \n",
    "```\n",
    "A[0], A[1], ..., A[n - 1].\n",
    "```\n",
    "\n",
    "**Output:** A reordering of `A` such that\n",
    "```\n",
    "A[0] <= A[1] <= ... <= A[n - 1].\n",
    "```\n",
    "**Pseudocode:**\n",
    "```\n",
    "pos := 0\n",
    "while pos < length(A):\n",
    "    if (pos == 0 or A[pos] >= A[pos-1]):\n",
    "        pos := pos + 1\n",
    "    else:\n",
    "        swap A[pos] and A[pos-1]\n",
    "        pos := pos - 1\n",
    "```\n",
    "\n",
    "### `gnome_sort()`\n",
    "\n",
    "The function `gnome_sort(A)` given below is a direct implementation of the pseudocode. Parameter `A` must be a [mutable sequence](https://docs.python.org/3/reference/datamodel.html) (list or byte array for example) of a pairwise comparable elements."
   ]
  },
  {
   "cell_type": "code",
   "execution_count": 1,
   "metadata": {},
   "outputs": [],
   "source": [
    "def gnome_sort(A):\n",
    "    '''Sorts in-place a list of comparable elements.\n",
    "\n",
    "    Algorithm: Gnome Sort.\n",
    "    '''\n",
    "    pos = 0\n",
    "    \n",
    "    while pos < len(A):\n",
    "        if pos == 0 or A[pos] >= A[pos - 1]:\n",
    "            pos += 1\n",
    "        else:\n",
    "            A[pos], A[pos - 1] = A[pos - 1], A[pos]\n",
    "            pos -= 1"
   ]
  },
  {
   "cell_type": "markdown",
   "metadata": {},
   "source": [
    "### `insertion_sort()` with loop invariants\n",
    "\n",
    "The function `insertion_sort_inv(A)` is the `insertion_sort(A)` with loop invariants added. "
   ]
  },
  {
   "cell_type": "code",
   "execution_count": 2,
   "metadata": {},
   "outputs": [],
   "source": [
    "def gnome_sort_inv(A):\n",
    "    '''Sorts in-place a list of comparable elements.\n",
    "    \n",
    "    Algorithm: Gnome Sort.\n",
    "    Each loop have a loop invariant provided by assert.\n",
    "    '''\n",
    "    \n",
    "    # B is a copy of A used in invariants.\n",
    "    B = A[:]\n",
    "    \n",
    "    pos = 0\n",
    "    \n",
    "    while pos < len(A):\n",
    "        # A[0, ..., pos - 1] is sorted.\n",
    "        assert A[:pos] == sorted(A[:pos]), 'Invariant failed.'\n",
    "\n",
    "        if pos == 0 or A[pos] >= A[pos - 1]:\n",
    "            pos += 1\n",
    "        else:\n",
    "            A[pos], A[pos - 1] = A[pos - 1], A[pos]\n",
    "            pos -= 1\n",
    "            \n",
    "    # A[0, ..., len(A) - 1] is sorted.\n",
    "    assert A == sorted(A), 'Invariant failed.'\n"
   ]
  },
  {
   "cell_type": "markdown",
   "metadata": {},
   "source": [
    "## Timings\n",
    "\n",
    "Length of the list."
   ]
  },
  {
   "cell_type": "code",
   "execution_count": 3,
   "metadata": {},
   "outputs": [],
   "source": [
    "N = 100"
   ]
  },
  {
   "cell_type": "markdown",
   "metadata": {},
   "source": [
    "#### Worst case."
   ]
  },
  {
   "cell_type": "code",
   "execution_count": 4,
   "metadata": {},
   "outputs": [
    {
     "name": "stdout",
     "output_type": "stream",
     "text": [
      "3.55 ms ± 41.6 µs per loop (mean ± std. dev. of 7 runs, 100 loops each)\n"
     ]
    }
   ],
   "source": [
    "%timeit gnome_sort(list(range(N, 0, -1)))"
   ]
  },
  {
   "cell_type": "markdown",
   "metadata": {},
   "source": [
    "#### Best case."
   ]
  },
  {
   "cell_type": "code",
   "execution_count": 5,
   "metadata": {},
   "outputs": [
    {
     "name": "stdout",
     "output_type": "stream",
     "text": [
      "22.7 µs ± 127 ns per loop (mean ± std. dev. of 7 runs, 10000 loops each)\n"
     ]
    }
   ],
   "source": [
    "%timeit gnome_sort(list(range(N)))"
   ]
  },
  {
   "cell_type": "markdown",
   "metadata": {},
   "source": [
    "#### Average case."
   ]
  },
  {
   "cell_type": "code",
   "execution_count": 6,
   "metadata": {},
   "outputs": [],
   "source": [
    "from random import randint\n",
    "\n",
    "A = [randint(0, N) for _ in range(N)]"
   ]
  },
  {
   "cell_type": "code",
   "execution_count": 7,
   "metadata": {},
   "outputs": [
    {
     "name": "stdout",
     "output_type": "stream",
     "text": [
      "21.8 µs ± 87.4 ns per loop (mean ± std. dev. of 7 runs, 10000 loops each)\n"
     ]
    }
   ],
   "source": [
    "%timeit gnome_sort(A)"
   ]
  }
 ],
 "metadata": {
  "anaconda-cloud": {},
  "kernelspec": {
   "display_name": "Python 3",
   "language": "python",
   "name": "python3"
  },
  "language_info": {
   "codemirror_mode": {
    "name": "ipython",
    "version": 3
   },
   "file_extension": ".py",
   "mimetype": "text/x-python",
   "name": "python",
   "nbconvert_exporter": "python",
   "pygments_lexer": "ipython3",
   "version": "3.6.8"
  }
 },
 "nbformat": 4,
 "nbformat_minor": 2
}
